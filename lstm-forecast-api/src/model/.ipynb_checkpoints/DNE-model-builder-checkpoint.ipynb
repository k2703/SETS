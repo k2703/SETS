{
 "cells": [
  {
   "cell_type": "markdown",
   "metadata": {},
   "source": [
    "# Imports\n",
    "***"
   ]
  },
  {
   "cell_type": "code",
   "execution_count": 1,
   "metadata": {},
   "outputs": [
    {
     "name": "stderr",
     "output_type": "stream",
     "text": [
      "Using TensorFlow backend.\n"
     ]
    },
    {
     "name": "stdout",
     "output_type": "stream",
     "text": [
      "3.3.0\n"
     ]
    },
    {
     "data": {
      "text/html": [
       "<script>requirejs.config({paths: { 'plotly': ['https://cdn.plot.ly/plotly-latest.min']},});if(!window.Plotly) {{require(['plotly'],function(plotly) {window.Plotly=plotly;});}}</script>"
      ],
      "text/vnd.plotly.v1+html": [
       "<script>requirejs.config({paths: { 'plotly': ['https://cdn.plot.ly/plotly-latest.min']},});if(!window.Plotly) {{require(['plotly'],function(plotly) {window.Plotly=plotly;});}}</script>"
      ]
     },
     "metadata": {},
     "output_type": "display_data"
    }
   ],
   "source": [
    "import pandas as pd \n",
    "from sklearn.metrics import mean_squared_error\n",
    "from math import sqrt\n",
    "from matplotlib import pyplot as plt\n",
    "from sklearn.metrics import mean_squared_error\n",
    "from sklearn.preprocessing import MinMaxScaler\n",
    "from keras.models import Sequential\n",
    "from keras.layers import Dense\n",
    "from keras.layers import LSTM\n",
    "import numpy as np\n",
    "import os\n",
    "from plotly import __version__\n",
    "from plotly.offline import download_plotlyjs, init_notebook_mode, plot, iplot\n",
    "print(__version__)# requires version >= 1.9.0\n",
    "import plotly\n",
    "import plotly.graph_objs as go\n",
    "from datetime import datetime\n",
    "plotly.offline.init_notebook_mode(connected=True)\n",
    "import os\n",
    "from keras.models import model_from_json\n",
    "from sklearn.externals import joblib\n",
    "plt.rcParams[\"figure.figsize\"] = (15,7)"
   ]
  },
  {
   "cell_type": "markdown",
   "metadata": {},
   "source": [
    "# Helper functions\n",
    "***\n",
    "\n",
    "Assumed time period is hourly on full hours."
   ]
  },
  {
   "cell_type": "code",
   "execution_count": 2,
   "metadata": {},
   "outputs": [],
   "source": [
    "def read_electricity_p(appliances = None, \n",
    "                       limit = None, \n",
    "                       filename = 'Electricity_P.csv'):\n",
    "    \n",
    "    \"\"\"Reads Electricity_p dataset\n",
    "\n",
    "    Args:\n",
    "        appliances: devices to read.\n",
    "        limit: limit the number of rows to read.\n",
    "        rel_file_path: relative path to file to read.\n",
    "\n",
    "    Returns:\n",
    "        in-memory read pandas dataframe along with the appliances \n",
    "    \"\"\"\n",
    "    \n",
    "    # NOTE: data will be provided in google cloud storage\n",
    "    filename = os.path.dirname(os.path.dirname(os.getcwd()).replace(' ','\\ ')) + \"/src/model/data/\" + filename\n",
    "    \n",
    "    # define appliance which shall be displayed\n",
    "    if appliances is None and limit is None:\n",
    "        electricity_data = pd.read_csv(filename,sep=\",\")\n",
    "    elif appliances is None and limit is not None:\n",
    "        electricity_data = pd.read_csv(filename,sep=\",\", nrows = limit)\n",
    "    elif appliances is not None and limit is None:\n",
    "        electricity_data = pd.read_csv(filename,sep=\",\", usecols=(appliances+['UNIX_TS']))\n",
    "    else:\n",
    "        electricity_data = pd.read_csv(filename,sep=\",\",nrows = limit, usecols=(appliances+['UNIX_TS']))\n",
    "\n",
    "    # conert date column into plotly-interpretable format\n",
    "    electricity_data['UNIX_TS'] = pd.to_datetime(electricity_data['UNIX_TS'],unit='s').astype(datetime)\n",
    "    \n",
    "    # set index to date\n",
    "    #electricity_data.set_index('UNIX_TS')\n",
    "\n",
    "    # aggregate on an hour basis\n",
    "    electricity_data = electricity_data \\\n",
    "        .groupby(electricity_data.UNIX_TS.map(lambda x: x.strftime('%Y-%m-%d %H'))) \\\n",
    "        .mean()\n",
    "\n",
    "    appliances = electricity_data.columns.values\n",
    "    return electricity_data, appliances\n",
    "\n",
    "\n",
    "def timeseries_to_supervised(data, lag=1):\n",
    "    df = pd.DataFrame(data)\n",
    "    columns = [df.shift(i) for i in range(1, lag+1)]\n",
    "    columns.append(df)\n",
    "    df = pd.concat(columns, axis=1)\n",
    "    df.fillna(0, inplace=True)\n",
    "    return df\n",
    "\n",
    "\n",
    "# create a differenced series\n",
    "def difference(dataset, interval=1):\n",
    "    diff = list()\n",
    "    for i in range(interval, len(dataset)):\n",
    "        value = dataset[i] - dataset[i - interval]\n",
    "        diff.append(value)\n",
    "    return pd.Series(diff)\n",
    "\n",
    "\n",
    "'''# invert differenced value\n",
    "def inverse_difference(history, differenced):\n",
    "    # invert transform\n",
    "    inverted = list()\n",
    "    for i in range(len(differenced)):\n",
    "        value = differenced[i] + history[-(len(history)-i)]\n",
    "        inverted.append(value)\n",
    "    inverted = pd.Series(inverted)\n",
    "    return inverted'''\n",
    "\n",
    "# invert differenced value\n",
    "def inverse_difference(history, yhat, interval=1):\n",
    "    return yhat + history[-interval]\n",
    " \n",
    "# scale train and test data to [-1, 1]\n",
    "def scale(train, test):\n",
    "    # fit scale\n",
    "    scaler = MinMaxScaler(feature_range=(-1, 1))\n",
    "    scaler = scaler.fit(train)\n",
    "    # transform train\n",
    "    train = train.reshape(train.shape[0], train.shape[1])\n",
    "    series_scaled = scaler.transform(train)\n",
    "    # transform test\n",
    "    test = test.reshape(test.shape[0], test.shape[1])\n",
    "    test_scaled = scaler.transform(test)\n",
    "    return scaler, series_scaled, test_scaled\n",
    " \n",
    "'''# inverse scaling for a forecasted value\n",
    "def invert_scale(scaler, X, value):\n",
    "    new_row = [x for x in X] + [value]\n",
    "    array = numpy.array(new_row)\n",
    "    array = array.reshape(1, len(array))\n",
    "    inverted = scaler.inverse_transform(array)\n",
    "    return inverted[0, -1]'''\n",
    "\n",
    "\n",
    "def invert_scale(scaler, predictions):\n",
    "    array = [[a[0]] + [b[0]] for a, b in zip(predictions, predictions)]\n",
    "    array = np.array(array)\n",
    "    #array = array.reshape(1, len(array))\n",
    "    inverted = scaler.inverse_transform(array)\n",
    "    return inverted#[:,-1]\n",
    "\n",
    " \n",
    "def invert_normalize(scaler, series_raw, series_predictions_normalized):\n",
    "    series_predictions_scaled = invert_scale(scaler, series_predictions_normalized)\n",
    "    #print(series_predictions_scaled[0:10])\n",
    "    # invert transform\n",
    "    tmp = list()\n",
    "    for i in range(len(series_predictions_scaled)):\n",
    "        #if i < 10:\n",
    "        #    print(\"step \" + str(i))\n",
    "        #    print(\"series_predictions[i]\" + str(series_predictions_scaled[i]))\n",
    "        #    print(series_raw[-(len(series_raw)-i)])\n",
    "        value = inverse_difference(series_raw, series_predictions_scaled[i], len(series_raw)-i)\n",
    "        #if i < 10:\n",
    "        #    print(value)\n",
    "        tmp.append(value)\n",
    "    series_predictions = pd.Series(tmp)\n",
    "    series_predictions = [x[0]  for x in series_predictions]\n",
    "    return series_predictions\n",
    "\n",
    "\n",
    "def compute_rmse(raw, prediction):\n",
    "    if len(raw) != len(prediction):\n",
    "        raise ValueError(\"raw series and predicition series do not have same input length!\")\n",
    "    rmse = sqrt(mean_squared_error(raw, prediction))\n",
    "    return rmse\n",
    "\n",
    "\n",
    "def print_series(raw, prediction, ind_start = 0, ind_end = None, legend_1 = 'raw series', legend_2 = 'prediction series'):\n",
    "    if ind_end is None:\n",
    "        ind_end = max(len(raw),len(prediction))\n",
    "    plt.plot(list(raw)[ind_start:ind_end],'o-')\n",
    "    plt.plot(list(prediction)[ind_start:ind_end],'o-')\n",
    "    plt.gca().legend((legend_1,legend_2), prop={'size': 18})\n",
    "    plt.show()\n",
    "    \n",
    "    \n",
    "# fit an LSTM network to training data\n",
    "def fit_lstm(train, batch_size, nb_epoch, neurons, raw_normalized, scaler):\n",
    "    \n",
    "    # create input features and corresponding output\n",
    "    X, y = train[:, 0:-1], train[:, -1]\n",
    "    X = X.reshape(X.shape[0], 1, X.shape[1])\n",
    "\n",
    "    # initialize train and test error histories\n",
    "    train_err_hist = []\n",
    "    test_err_hist = []\n",
    "    \n",
    "    # reeshape normalized input to get model prediction in original scale\n",
    "    raw_normalized_reshaped = raw_normalized[:, 0].reshape(len(raw_normalized), 1, 1)\n",
    "    \n",
    "    # build model\n",
    "    model = Sequential()\n",
    "    model.add(LSTM(neurons, batch_input_shape=(batch_size, X.shape[1], X.shape[2]), stateful=True))\n",
    "    model.add(Dense(1))\n",
    "    model.compile(loss='mean_squared_error', optimizer='adam')\n",
    "    \n",
    "    for i in range(nb_epoch):\n",
    "        model.fit(X, y, epochs=1, batch_size=batch_size, verbose=1, shuffle=False)\n",
    "        model.reset_states()\n",
    "        \n",
    "        raw_normalized_predictions = model.predict(raw_normalized_reshaped, batch_size=1)\n",
    "        model_prediction = invert_normalize(scaler, raw_values, raw_normalized_predictions)\n",
    "        \n",
    "        train_err_hist.append(compute_rmse(raw_values[1:][:n_train], model_prediction[:n_train]))\n",
    "        test_err_hist.append(compute_rmse(raw_values[1:][n_train:n_train+n_test], model_prediction[n_train:n_train+n_test]))\n",
    "        \n",
    "    return model, train_err_hist, test_err_hist\n",
    "\n",
    "\n",
    "def save_model(lstm_model, model_name):\n",
    "\n",
    "    # serialize model to JSON\n",
    "    lstm_model_json = lstm_model.to_json()\n",
    "    home_dir = os.path.dirname(os.path.dirname(os.getcwd()).replace(' ','\\ '))+ \"/src/model/models/\"\n",
    "    with open(home_dir+model_name +\".json\" , \"w\") as json_file:\n",
    "        json_file.write(lstm_model_json)\n",
    "\n",
    "    # serialize weights to HDF5\n",
    "    lstm_model.save_weights(home_dir+model_name+\".h5\")\n",
    "\n",
    "    \n",
    "def save_scaler(scaler, scaler_name):\n",
    "    home_dir = os.path.dirname(os.path.dirname(os.getcwd()).replace(' ','\\ '))+ \"/src/model/data/\"\n",
    "    scaler_filename = home_dir +scaler_name\n",
    "    joblib.dump(scaler, scaler_filename) \n",
    "    \n",
    "    \n",
    "def save_ndarray(ndarray, ndarray_name):\n",
    "    home_dir = os.path.dirname(os.path.dirname(os.getcwd()).replace(' ','\\ '))+ \"/src/model/data/\"\n",
    "    ndarray_filename = home_dir +ndarray_name + \".npy\"\n",
    "    np.save(ndarray_filename, ndarray) \n",
    "    \n",
    "\n",
    "def load_model(model_name):\n",
    "    home_dir = os.path.dirname(os.path.dirname(os.getcwd()).replace(' ','\\ '))+ \"/src/model/models/\"\n",
    "\n",
    "    # load json and create model\n",
    "    json_file = open(home_dir+model_name+\".json\", 'r')\n",
    "    loaded_model_json = json_file.read()\n",
    "    json_file.close()\n",
    "    lstm_model = model_from_json(loaded_model_json)\n",
    "\n",
    "    # load weights into new model\n",
    "    lstm_model.load_weights(home_dir+model_name+\".h5\")\n",
    "    print(\"Loaded model from disk\")\n",
    "    return lstm_model\n",
    "\n",
    "    \n",
    "def load_scaler(scaler_name):\n",
    "    # load scaler model\n",
    "    home_dir =os.path.dirname(os.path.dirname(os.getcwd()).replace(' ','\\ '))+ \"/src/model/data/\"\n",
    "    scaler_filename = home_dir+scaler_name\n",
    "    scaler = joblib.load(scaler_filename) \n",
    "    return scaler\n",
    "\n",
    "\n",
    "def load_ndarray(ndarray_name):\n",
    "    home_dir = os.path.dirname(os.path.dirname(os.getcwd()).replace(' ','\\ '))+ \"/src/model/data/\"\n",
    "    ndarray_filename = home_dir +ndarray_name+\".npy\"\n",
    "    ndarray = np.load(ndarray_filename) \n",
    "    return ndarray"
   ]
  },
  {
   "cell_type": "markdown",
   "metadata": {},
   "source": [
    "# Forecasting\n",
    "***"
   ]
  },
  {
   "cell_type": "markdown",
   "metadata": {},
   "source": [
    "## 0. Data Preparation"
   ]
  },
  {
   "cell_type": "code",
   "execution_count": 3,
   "metadata": {},
   "outputs": [
    {
     "name": "stdout",
     "output_type": "stream",
     "text": [
      "Train shape:  (15768, 2)\n",
      "Test shape:  (1751, 2)\n"
     ]
    },
    {
     "name": "stderr",
     "output_type": "stream",
     "text": [
      "/home/ubuntu/.local/lib/python3.6/site-packages/sklearn/utils/validation.py:590: DataConversionWarning:\n",
      "\n",
      "Data with input dtype object was converted to float64 by MinMaxScaler.\n",
      "\n"
     ]
    }
   ],
   "source": [
    "APPLIANCE = 'EBE'\n",
    "VERSION = '1'\n",
    "\n",
    "# read data\n",
    "electricity_data, appliances= read_electricity_p(appliances = [APPLIANCE])\n",
    "raw_values = electricity_data.values\n",
    "\n",
    "# form difference\n",
    "diff_values = difference(raw_values, 1)\n",
    "\n",
    "# transform data to be supervised learning\n",
    "supervised = timeseries_to_supervised(diff_values, 1)\n",
    "supervised_values = supervised.values\n",
    "\n",
    "# split data into train and test-sets\n",
    "test_portion = 0.1\n",
    "n = len(supervised_values)\n",
    "train, test = supervised_values[0:-int(n*test_portion)], supervised_values[-int(n*test_portion):]\n",
    "print('Train shape:  {}\\nTest shape:  {}'.format(train.shape, test.shape))\n",
    "n_train = len(train[:,0])\n",
    "n_test = len(test)\n",
    "'''\n",
    "train_raw = raw_values[:n_train]\n",
    "test_raw = raw_values[-(n_test+2):]\n",
    "'''\n",
    "\n",
    "# transform the scale of the data\n",
    "scaler, train_normalized, test_normalized = scale(train, test)\n",
    "raw_normalized = np.concatenate((train_normalized, test_normalized), axis=0)\n"
   ]
  },
  {
   "cell_type": "markdown",
   "metadata": {},
   "source": [
    "## 1. Baseline Model\n",
    "\n",
    "### 1.1 Train & Test Error"
   ]
  },
  {
   "cell_type": "code",
   "execution_count": 4,
   "metadata": {},
   "outputs": [],
   "source": [
    "plt.rcParams[\"figure.figsize\"] = (15,7)"
   ]
  },
  {
   "cell_type": "code",
   "execution_count": 5,
   "metadata": {},
   "outputs": [
    {
     "name": "stdout",
     "output_type": "stream",
     "text": [
      "TRAIN RMSE: 15.974\n",
      "TEST RMSE: 0.013\n"
     ]
    },
    {
     "data": {
      "image/png": "[encoded data removed]",
      "text/plain": [
       "<matplotlib.figure.Figure at 0x7f7dc0b82fd0>"
      ]
     },
     "metadata": {},
     "output_type": "display_data"
    },
    {
     "data": {
      "image/png": "[encoded data removed]",
      "text/plain": [
       "<matplotlib.figure.Figure at 0x7f7dc0b82f98>"
      ]
     },
     "metadata": {},
     "output_type": "display_data"
    }
   ],
   "source": [
    "base_prediction = raw_values\n",
    "real_values = raw_values[1:]\n",
    "\n",
    "print('TRAIN RMSE: %.3f' % compute_rmse(real_values[:n_train-1], base_prediction[:n_train-1]))\n",
    "print('TEST RMSE: %.3f' % compute_rmse(real_values[n_train-1:n_train+n_test], base_prediction[n_train-1:n_train+n_test]))\n",
    "\n",
    "print_series(real_values,base_prediction,100,200)\n",
    "print_series(real_values,base_prediction,n_train,n_train+100)"
   ]
  },
  {
   "cell_type": "markdown",
   "metadata": {},
   "source": [
    "## 2. LSTM Model"
   ]
  },
  {
   "cell_type": "markdown",
   "metadata": {},
   "source": [
    "### 2.1 Train LSTM Model"
   ]
  },
  {
   "cell_type": "code",
   "execution_count": 6,
   "metadata": {},
   "outputs": [
    {
     "name": "stdout",
     "output_type": "stream",
     "text": [
      "Epoch 1/1\n",
      "15768/15768 [==============================] - 37s 2ms/step - loss: 4.2244e-04\n",
      "Epoch 1/1\n",
      "15768/15768 [==============================] - 37s 2ms/step - loss: 3.9163e-04\n",
      "Epoch 1/1\n",
      "15768/15768 [==============================] - 36s 2ms/step - loss: 3.7069e-04\n"
     ]
    }
   ],
   "source": [
    "# fit the model\n",
    "lstm_model, train_err_hist, test_err_hist = fit_lstm(train_normalized, 1, 3, 20, raw_normalized, scaler)"
   ]
  },
  {
   "cell_type": "markdown",
   "metadata": {},
   "source": [
    "Train and Test Error History"
   ]
  },
  {
   "cell_type": "code",
   "execution_count": 7,
   "metadata": {},
   "outputs": [
    {
     "data": {
      "image/png": "[encoded data removed]",
      "text/plain": [
       "<matplotlib.figure.Figure at 0x7f7dd71fa5c0>"
      ]
     },
     "metadata": {},
     "output_type": "display_data"
    }
   ],
   "source": [
    "print_series(train_err_hist,test_err_hist,legend_1 = 'Train Error', legend_2 = 'Test Error')"
   ]
  },
  {
   "cell_type": "markdown",
   "metadata": {},
   "source": [
    "### 2.2 Save & Load Model"
   ]
  },
  {
   "cell_type": "markdown",
   "metadata": {},
   "source": [
    "Save Model"
   ]
  },
  {
   "cell_type": "code",
   "execution_count": 8,
   "metadata": {},
   "outputs": [],
   "source": [
    "save_model(lstm_model, model_name = APPLIANCE+\"_model_\"+VERSION)\n",
    "save_scaler(scaler, scaler_name = APPLIANCE+\"_scaler\")\n",
    "save_ndarray(raw_normalized, APPLIANCE+\"_raw_normalized\")\n",
    "save_ndarray(raw_values[:n_train+1],  APPLIANCE+\"_train_values\")\n",
    "save_ndarray(train_normalized,  APPLIANCE+\"_train_normalized\")"
   ]
  },
  {
   "cell_type": "markdown",
   "metadata": {},
   "source": [
    "Load Model"
   ]
  },
  {
   "cell_type": "code",
   "execution_count": 9,
   "metadata": {},
   "outputs": [
    {
     "name": "stdout",
     "output_type": "stream",
     "text": [
      "Loaded model from disk\n"
     ]
    }
   ],
   "source": [
    "lstm_model = load_model(model_name = APPLIANCE+\"_model_\"+VERSION)\n",
    "scaler = load_scaler(scaler_name = APPLIANCE+\"_scaler\")\n",
    "raw_normalized = load_ndarray(ndarray_name = APPLIANCE+\"_raw_normalized\")"
   ]
  },
  {
   "cell_type": "markdown",
   "metadata": {},
   "source": [
    "### 2.3 Final Train & Test Performance"
   ]
  },
  {
   "cell_type": "markdown",
   "metadata": {},
   "source": [
    "Hint: *raw_normalized has 2 columns: \n",
    "1. 0 - N-1  -> (predicts to) 1 - N\n",
    "2. 1 - N    -> (predits to) 2 - N+1 (neglected)\n",
    "\n",
    "for example:\n",
    "supervised_values \n",
    "\n",
    "[0, array([-4.33333333])],\n",
    "[array([-4.33333333]), array([-20.9])],\n",
    "\n",
    "0 -> -4.333333\n",
    "\n",
    "and this first prediction is transition from raw_values[0] to raw_values[1]"
   ]
  },
  {
   "cell_type": "markdown",
   "metadata": {},
   "source": [
    "#### 2.3.1 All in One Evaluation"
   ]
  },
  {
   "cell_type": "code",
   "execution_count": 10,
   "metadata": {},
   "outputs": [
    {
     "name": "stdout",
     "output_type": "stream",
     "text": [
      "Loaded model from disk\n",
      "TRAIN RMSE: 13.670\n",
      "TEST RMSE: 0.023\n"
     ]
    },
    {
     "data": {
      "image/png": "[encoded data removed]",
      "text/plain": [
       "<matplotlib.figure.Figure at 0x7f7dbd85fa58>"
      ]
     },
     "metadata": {},
     "output_type": "display_data"
    },
    {
     "data": {
      "image/png": "[encoded data removed]",
      "text/plain": [
       "<matplotlib.figure.Figure at 0x7f7dbd85f9e8>"
      ]
     },
     "metadata": {},
     "output_type": "display_data"
    }
   ],
   "source": [
    "real_values = raw_values[1:]\n",
    "\n",
    "lstm_model = load_model(model_name = APPLIANCE+\"_model_\"+VERSION)\n",
    "\n",
    "raw_normalized_reshaped = raw_normalized[:, 0].reshape(len(raw_normalized), 1, 1)\n",
    "raw_normalized_predictions = lstm_model.predict(raw_normalized_reshaped, batch_size=1)\n",
    "lstm_prediction = invert_normalize(scaler, raw_values, raw_normalized_predictions)\n",
    "\n",
    "print('TRAIN RMSE: %.3f' % compute_rmse(real_values[:n_train], lstm_prediction[:n_train]))\n",
    "print('TEST RMSE: %.3f' % compute_rmse(real_values[n_train:n_train+n_test], lstm_prediction[n_train:n_train+n_test]))\n",
    "\n",
    "print_series(real_values[:n_train],lstm_prediction[:n_train],0,100)\n",
    "print_series(real_values[n_train:n_train+n_test], lstm_prediction[n_train-1:n_train+n_test],0,100)"
   ]
  },
  {
   "cell_type": "markdown",
   "metadata": {},
   "source": [
    "#### 2.3.2 Train Performance Evaluation "
   ]
  },
  {
   "cell_type": "code",
   "execution_count": 11,
   "metadata": {},
   "outputs": [
    {
     "name": "stdout",
     "output_type": "stream",
     "text": [
      "Loaded model from disk\n",
      "TRAIN RMSE: 13.670\n"
     ]
    },
    {
     "data": {
      "image/png": "[encoded data removed]",
      "text/plain": [
       "<matplotlib.figure.Figure at 0x7f7db98abe80>"
      ]
     },
     "metadata": {},
     "output_type": "display_data"
    }
   ],
   "source": [
    "lstm_model = load_model(model_name = APPLIANCE+\"_model_\"+VERSION)\n",
    "\n",
    "train_normalized_reshaped = train_normalized[:, 0].reshape(len(train_normalized), 1, 1)\n",
    "train_normalized_predictions = lstm_model.predict(train_normalized_reshaped, batch_size=1)\n",
    "lstm_prediction = invert_normalize(scaler, raw_values[:n_train], train_normalized_predictions[:n_train])\n",
    "\n",
    "print('TRAIN RMSE: %.3f' % compute_rmse(real_values[:n_train], lstm_prediction[:n_train]))\n",
    "print_series(real_values[:n_train],lstm_prediction[:n_train],0,100)\n",
    "\n",
    "#save_model(lstm_model,model_name = \"FGE_model_1_train_state\")\n"
   ]
  },
  {
   "cell_type": "markdown",
   "metadata": {},
   "source": [
    "#### 2.3.3 Test Performance Evaluation"
   ]
  },
  {
   "cell_type": "markdown",
   "metadata": {},
   "source": [
    "Note that the model is not loaded here because we use the state generated by evaluation the training performance"
   ]
  },
  {
   "cell_type": "code",
   "execution_count": 12,
   "metadata": {},
   "outputs": [
    {
     "name": "stdout",
     "output_type": "stream",
     "text": [
      "TEST RMSE: 0.023\n"
     ]
    },
    {
     "data": {
      "image/png": "[encoded data removed]",
      "text/plain": [
       "<matplotlib.figure.Figure at 0x7f7dbd84be48>"
      ]
     },
     "metadata": {},
     "output_type": "display_data"
    }
   ],
   "source": [
    "test_normalized_reshaped = test_normalized[:, 0].reshape(len(test_normalized), 1, 1)\n",
    "test_normalized_predictions = lstm_model.predict(test_normalized_reshaped, batch_size=1)\n",
    "lstm_prediction = invert_normalize(scaler, raw_values[n_train:], test_normalized_predictions)\n",
    "\n",
    "print('TEST RMSE: %.3f' % compute_rmse(real_values[n_train:], lstm_prediction))\n",
    "print_series(real_values[n_train:-1],lstm_prediction[:-1],0,100)"
   ]
  },
  {
   "cell_type": "markdown",
   "metadata": {},
   "source": [
    "#### 2.3.4 Test Performance Online Evaluation "
   ]
  },
  {
   "cell_type": "code",
   "execution_count": 13,
   "metadata": {},
   "outputs": [
    {
     "name": "stdout",
     "output_type": "stream",
     "text": [
      "Loaded model from disk\n",
      "Test RMSE: 0.023\n"
     ]
    },
    {
     "data": {
      "image/png": "[encoded data removed]",
      "text/plain": [
       "<matplotlib.figure.Figure at 0x7f7db95ab128>"
      ]
     },
     "metadata": {},
     "output_type": "display_data"
    }
   ],
   "source": [
    "lstm_model = load_model(model_name = APPLIANCE+\"_model_\" +VERSION)\n",
    "\n",
    "train_normalized_reshaped = train_normalized[:, 0].reshape(len(train_normalized), 1, 1)\n",
    "train_normalized_predictions = lstm_model.predict(train_normalized_reshaped, batch_size=1)\n",
    "\n",
    "result = []\n",
    "raw = raw_values[(n_train-1):]# np.asarray([[48.9],[ 44.56666667],[ 23.66666667],[ 58.43333333],[ 39.08333333]])\n",
    "for i in range(len(raw)-1):\n",
    "    #print(i)\n",
    "    \n",
    "    raw_cut = raw[0:i+2]\n",
    "    diff_input = difference(raw_cut, 1)\n",
    "    # transform data to be supervised learning\n",
    "    supervised_input = timeseries_to_supervised(diff_input, 1)\n",
    "    supervised_input_values = supervised_input.values\n",
    "    input_normalized = np.concatenate((scaler.transform(supervised_input_values)[:,0], scaler.transform(supervised_input_values)[-1,1]),axis=None)\n",
    "\n",
    "    #print(input_normalized[-1])\n",
    "    input_normalized_reshaped = np.asarray([input_normalized[-1]]).reshape(1, 1, 1)\n",
    "    \n",
    "    #print(input_normalized_reshaped)\n",
    "    normalized_predictions = lstm_model.predict(input_normalized_reshaped, batch_size=1)\n",
    "    #print(\"step \"+  str(i))\n",
    "    tmp = invert_normalize(scaler, raw_values[n_train+i:], normalized_predictions)\n",
    "    #print(tmp)\n",
    "    #if i < 10:\n",
    "    #    print(input_normalized_reshaped)\n",
    "    #    print(normalized_predictions)\n",
    "    #    print(tmp)\n",
    "    #    print(\"<<<<<<<<<<<<<<<<<<<<<<\")\n",
    "    result.append(tmp[-1])\n",
    "    \n",
    "print('Test RMSE: %.3f' % compute_rmse(real_values[n_train:], result[:-1]))\n",
    "print_series(real_values[n_train:],result,0,100)"
   ]
  },
  {
   "cell_type": "code",
   "execution_count": 14,
   "metadata": {},
   "outputs": [
    {
     "data": {
      "text/plain": [
       "array([[0.],\n",
       "       [0.],\n",
       "       [0.]])"
      ]
     },
     "execution_count": 14,
     "metadata": {},
     "output_type": "execute_result"
    }
   ],
   "source": [
    "raw_values[n_train-2:n_train+1]"
   ]
  },
  {
   "cell_type": "code",
   "execution_count": 15,
   "metadata": {},
   "outputs": [
    {
     "data": {
      "text/plain": [
       "array([[0.],\n",
       "       [0.],\n",
       "       [0.],\n",
       "       [0.],\n",
       "       [0.]])"
      ]
     },
     "execution_count": 15,
     "metadata": {},
     "output_type": "execute_result"
    }
   ],
   "source": [
    "raw_values[n_train:n_train+5]"
   ]
  },
  {
   "cell_type": "code",
   "execution_count": 16,
   "metadata": {},
   "outputs": [
    {
     "data": {
      "text/html": [
       "<div>\n",
       "<style scoped>\n",
       "    .dataframe tbody tr th:only-of-type {\n",
       "        vertical-align: middle;\n",
       "    }\n",
       "\n",
       "    .dataframe tbody tr th {\n",
       "        vertical-align: top;\n",
       "    }\n",
       "\n",
       "    .dataframe thead th {\n",
       "        text-align: right;\n",
       "    }\n",
       "</style>\n",
       "<table border=\"1\" class=\"dataframe\">\n",
       "  <thead>\n",
       "    <tr style=\"text-align: right;\">\n",
       "      <th></th>\n",
       "      <th>EBE</th>\n",
       "    </tr>\n",
       "    <tr>\n",
       "      <th>UNIX_TS</th>\n",
       "      <th></th>\n",
       "    </tr>\n",
       "  </thead>\n",
       "  <tbody>\n",
       "    <tr>\n",
       "      <th>2014-01-18 07</th>\n",
       "      <td>0.0</td>\n",
       "    </tr>\n",
       "    <tr>\n",
       "      <th>2014-01-18 08</th>\n",
       "      <td>0.0</td>\n",
       "    </tr>\n",
       "    <tr>\n",
       "      <th>2014-01-18 09</th>\n",
       "      <td>0.0</td>\n",
       "    </tr>\n",
       "    <tr>\n",
       "      <th>2014-01-18 10</th>\n",
       "      <td>0.0</td>\n",
       "    </tr>\n",
       "    <tr>\n",
       "      <th>2014-01-18 11</th>\n",
       "      <td>0.0</td>\n",
       "    </tr>\n",
       "    <tr>\n",
       "      <th>2014-01-18 12</th>\n",
       "      <td>0.0</td>\n",
       "    </tr>\n",
       "    <tr>\n",
       "      <th>2014-01-18 13</th>\n",
       "      <td>0.0</td>\n",
       "    </tr>\n",
       "    <tr>\n",
       "      <th>2014-01-18 14</th>\n",
       "      <td>0.0</td>\n",
       "    </tr>\n",
       "    <tr>\n",
       "      <th>2014-01-18 15</th>\n",
       "      <td>0.0</td>\n",
       "    </tr>\n",
       "    <tr>\n",
       "      <th>2014-01-18 16</th>\n",
       "      <td>0.0</td>\n",
       "    </tr>\n",
       "  </tbody>\n",
       "</table>\n",
       "</div>"
      ],
      "text/plain": [
       "               EBE\n",
       "UNIX_TS           \n",
       "2014-01-18 07  0.0\n",
       "2014-01-18 08  0.0\n",
       "2014-01-18 09  0.0\n",
       "2014-01-18 10  0.0\n",
       "2014-01-18 11  0.0\n",
       "2014-01-18 12  0.0\n",
       "2014-01-18 13  0.0\n",
       "2014-01-18 14  0.0\n",
       "2014-01-18 15  0.0\n",
       "2014-01-18 16  0.0"
      ]
     },
     "execution_count": 16,
     "metadata": {},
     "output_type": "execute_result"
    }
   ],
   "source": [
    "electricity_data.iloc[n_train:n_train+10,:]"
   ]
  },
  {
   "cell_type": "code",
   "execution_count": 17,
   "metadata": {},
   "outputs": [
    {
     "data": {
      "text/plain": [
       "array([[array([0.]), array([0.])],\n",
       "       [array([0.]), array([0.])],\n",
       "       [array([0.]), array([0.])],\n",
       "       ...,\n",
       "       [array([0.]), array([0.])],\n",
       "       [array([0.]), array([0.])],\n",
       "       [array([0.]), array([0.])]], dtype=object)"
      ]
     },
     "execution_count": 17,
     "metadata": {},
     "output_type": "execute_result"
    }
   ],
   "source": [
    "test\n"
   ]
  }
 ],
 "metadata": {
  "kernelspec": {
   "display_name": "Python 3",
   "language": "python",
   "name": "python3"
  },
  "language_info": {
   "codemirror_mode": {
    "name": "ipython",
    "version": 3
   },
   "file_extension": ".py",
   "mimetype": "text/x-python",
   "name": "python",
   "nbconvert_exporter": "python",
   "pygments_lexer": "ipython3",
   "version": "3.6.5"
  }
 },
 "nbformat": 4,
 "nbformat_minor": 2
}
