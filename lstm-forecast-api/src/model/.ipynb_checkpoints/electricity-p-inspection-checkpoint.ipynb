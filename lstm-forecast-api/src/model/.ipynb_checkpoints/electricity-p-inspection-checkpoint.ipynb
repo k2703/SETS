{
 "cells": [
  {
   "cell_type": "markdown",
   "metadata": {},
   "source": [
    "## Imports\n",
    "***"
   ]
  },
  {
   "cell_type": "code",
   "execution_count": 4,
   "metadata": {},
   "outputs": [
    {
     "name": "stdout",
     "output_type": "stream",
     "text": [
      "3.3.0\n"
     ]
    }
   ],
   "source": [
    "import pandas as pd \n",
    "import os\n",
    "from plotly import __version__\n",
    "from plotly.offline import download_plotlyjs, init_notebook_mode, plot, iplot\n",
    "print(__version__)# requires version >= 1.9.0\n",
    "import plotly\n",
    "import plotly.graph_objs as go\n",
    "from datetime import datetime"
   ]
  },
  {
   "cell_type": "markdown",
   "metadata": {},
   "source": [
    "## Helper function\n",
    "***\n",
    "\n",
    "Assumed time period is hourly on full hours."
   ]
  },
  {
   "cell_type": "code",
   "execution_count": 9,
   "metadata": {},
   "outputs": [],
   "source": [
    "def read_electricity_p(appliances = None, \n",
    "                       limit = None, \n",
    "                       filename = 'Electricity_P.csv'):\n",
    "    \n",
    "    \"\"\"Reads Electricity_p dataset\n",
    "\n",
    "    Args:\n",
    "        appliances: devices to read.\n",
    "        limit: limit the number of rows to read.\n",
    "        rel_file_path: relative path to file to read.\n",
    "\n",
    "    Returns:\n",
    "        in-memory read pandas dataframe along with the appliances \n",
    "    \"\"\"\n",
    "    \n",
    "    # NOTE: data will be provided in google cloud storage\n",
    "    filename = os.path.dirname(os.path.dirname(os.getcwd()).replace(' ','\\ ')) + \"/src/model/data/\" + filename\n",
    "    \n",
    "    # define appliance which shall be displayed\n",
    "    if appliances is None and limit is None:\n",
    "        electricity_data = pd.read_csv(filename,sep=\",\")\n",
    "    elif appliances is None and limit is not None:\n",
    "        electricity_data = pd.read_csv(filename,sep=\",\", nrows = limit)\n",
    "    elif appliances is not None and limit is None:\n",
    "        electricity_data = pd.read_csv(filename,sep=\",\", usecols=(appliances+['UNIX_TS']))\n",
    "    else:\n",
    "        electricity_data = pd.read_csv(filename,sep=\",\",nrows = limit, usecols=(appliances+['UNIX_TS']))\n",
    "\n",
    "    # conert date column into plotly-interpretable format\n",
    "    electricity_data['UNIX_TS'] = pd.to_datetime(electricity_data['UNIX_TS'],unit='s').astype(datetime)\n",
    "    \n",
    "    # set index to date\n",
    "    #electricity_data.set_index('UNIX_TS')\n",
    "\n",
    "    # aggregate on an hour basis\n",
    "    electricity_data = electricity_data \\\n",
    "        .groupby(electricity_data.UNIX_TS.map(lambda x: x.strftime('%Y-%m-%d %H'))) \\\n",
    "        .mean()\n",
    "\n",
    "    appliances = electricity_data.columns.values\n",
    "    return electricity_data, appliances"
   ]
  },
  {
   "cell_type": "markdown",
   "metadata": {},
   "source": [
    "## Analysis\n",
    "***"
   ]
  },
  {
   "cell_type": "code",
   "execution_count": null,
   "metadata": {
    "scrolled": false
   },
   "outputs": [
    {
     "data": {
      "text/html": [
       "<script>requirejs.config({paths: { 'plotly': ['https://cdn.plot.ly/plotly-latest.min']},});if(!window.Plotly) {{require(['plotly'],function(plotly) {window.Plotly=plotly;});}}</script>"
      ],
      "text/vnd.plotly.v1+html": [
       "<script>requirejs.config({paths: { 'plotly': ['https://cdn.plot.ly/plotly-latest.min']},});if(!window.Plotly) {{require(['plotly'],function(plotly) {window.Plotly=plotly;});}}</script>"
      ]
     },
     "metadata": {},
     "output_type": "display_data"
    }
   ],
   "source": [
    "plotly.offline.init_notebook_mode(connected=True)\n",
    "electricity_data, appliances= read_electricity_p(appliances = ['FGE'])\n",
    "\n",
    "\n",
    "date = electricity_data.index.values\n",
    "appliance_consumption = {}\n",
    "appliance_traces ={}\n",
    "\n",
    "for appliance in appliances:\n",
    "    appliance_consumption[appliance] = electricity_data[appliance].values\n",
    "\n",
    "\n",
    "\n",
    "for appliance in appliances:\n",
    "    appliance_traces[appliance] = go.Scatter(\n",
    "                                x = date,\n",
    "                                y = appliance_consumption[appliance],\n",
    "                                mode = 'lines',\n",
    "                                name = 'lines')\n",
    "\n",
    "\n",
    "for appliance in appliances:\n",
    "    layout = go.Layout(title = appliance)\n",
    "    fig = go.Figure(data=[appliance_traces[appliance]], layout=layout)\n",
    "    plotly.offline.iplot(fig,filename = 'styling_names')\n",
    "\n"
   ]
  },
  {
   "cell_type": "code",
   "execution_count": 5,
   "metadata": {},
   "outputs": [
    {
     "data": {
      "text/plain": [
       "array(['FGE'], dtype=object)"
      ]
     },
     "execution_count": 5,
     "metadata": {},
     "output_type": "execute_result"
    }
   ],
   "source": [
    "appliances"
   ]
  }
 ],
 "metadata": {
  "kernelspec": {
   "display_name": "Python 3",
   "language": "python",
   "name": "python3"
  },
  "language_info": {
   "codemirror_mode": {
    "name": "ipython",
    "version": 3
   },
   "file_extension": ".py",
   "mimetype": "text/x-python",
   "name": "python",
   "nbconvert_exporter": "python",
   "pygments_lexer": "ipython3",
   "version": "3.6.5"
  }
 },
 "nbformat": 4,
 "nbformat_minor": 2
}
