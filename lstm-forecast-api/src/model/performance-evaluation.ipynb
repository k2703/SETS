{
 "cells": [
  {
   "cell_type": "markdown",
   "metadata": {},
   "source": [
    "# Imports\n",
    "***"
   ]
  },
  {
   "cell_type": "code",
   "execution_count": 13,
   "metadata": {},
   "outputs": [
    {
     "data": {
      "image/png": "[encoded data removed]",
      "text/plain": [
       "<matplotlib.figure.Figure at 0x7f29c50ee908>"
      ]
     },
     "metadata": {},
     "output_type": "display_data"
    },
    {
     "data": {
      "image/png": "[encoded data removed]",
      "text/plain": [
       "<matplotlib.figure.Figure at 0x7f29c50ee4a8>"
      ]
     },
     "metadata": {},
     "output_type": "display_data"
    }
   ],
   "source": [
    "import numpy as np\n",
    "import matplotlib.pyplot as plt\n",
    "\n",
    "n= 1\n",
    "\n",
    "m1 = (0.10)\n",
    "m2=(-0.21)\n",
    "m3=(0.29)\n",
    "m4=(0.41)\n",
    "x=[1]\n",
    "\n",
    "fig, ax = plt.subplots()\n",
    "\n",
    "index = np.arange(n)\n",
    "bar_width = 0.6\n",
    "\n",
    "opacity = 0.4\n",
    "error_config = {'ecolor': '0.3'}\n",
    "r1 = ax.bar(index, m1, bar_width,\n",
    "                 alpha=opacity,\n",
    "                 color='b',\n",
    "\n",
    "                 error_kw=error_config)\n",
    "\n",
    "r2 = ax.bar(index + bar_width, m2, bar_width,\n",
    "                 alpha=opacity,\n",
    "                 color='r',\n",
    "\n",
    "                 error_kw=error_config)\n",
    "ax.set_xlim(-1,1)\n",
    "                \n",
    "plt.xlabel('D')\n",
    "plt.ylabel('Anz')\n",
    "plt.title('Th')\n",
    "\n",
    "f, axes = plt.subplots(5, 4, sharex='col', sharey='row')\n",
    "\n",
    "\n",
    "for col in axes:\n",
    "    for ax in col:\n",
    "\n",
    "\n",
    "        r1 = ax.bar(index, m1, bar_width,\n",
    "                         alpha=opacity,\n",
    "                         color='b',\n",
    "\n",
    "                         error_kw=error_config)\n",
    "\n",
    "        r2 = ax.bar(index + bar_width, m2, bar_width,\n",
    "                         alpha=opacity,\n",
    "                         color='r',\n",
    "\n",
    "                         error_kw=error_config)\n",
    "        \n",
    "\n",
    "\n",
    "\n",
    "\n",
    "plt.tight_layout()\n",
    "plt.show()"
   ]
  },
  {
   "cell_type": "code",
   "execution_count": 23,
   "metadata": {},
   "outputs": [
    {
     "data": {
      "image/png": "[encoded data removed]",
      "text/plain": [
       "<matplotlib.figure.Figure at 0x7f29c45dd860>"
      ]
     },
     "metadata": {},
     "output_type": "display_data"
    }
   ],
   "source": [
    "# Credit: Josh Hemann\n",
    "\n",
    "import numpy as np\n",
    "import matplotlib.pyplot as plt\n",
    "from matplotlib.ticker import MaxNLocator\n",
    "from collections import namedtuple\n",
    "\n",
    "\n",
    "n_groups = 1\n",
    "\n",
    "means_men = (20)\n",
    "std_men = (2)\n",
    "\n",
    "means_women = (-15)\n",
    "std_women = (3)\n",
    "\n",
    "fig, ax = plt.subplots()\n",
    "\n",
    "index = np.arange(n_groups)\n",
    "bar_width = 0.55\n",
    "\n",
    "opacity = 0.4\n",
    "error_config = {'ecolor': '0.3'}\n",
    "\n",
    "rects1 = ax.bar(index, means_men, bar_width,\n",
    "                alpha=opacity, color='b',\n",
    "                yerr=std_men, error_kw=error_config,\n",
    "                label='Men')\n",
    "\n",
    "rects2 = ax.bar(index + bar_width, means_women, bar_width,\n",
    "                alpha=opacity, color='r',\n",
    "                yerr=std_women, error_kw=error_config,\n",
    "                label='Women')\n",
    "\n",
    "ax.set_xlabel('Group')\n",
    "ax.set_ylabel('Scores')\n",
    "ax.set_title('Scores by group and gender')\n",
    "ax.set_xticks(index + bar_width / 2)\n",
    "ax.set_xticklabels('A',)\n",
    "ax.legend()\n",
    "ax.set_xlim(-1,1)\n",
    "\n",
    "\n",
    "\n",
    "fig.tight_layout()\n",
    "plt.show()"
   ]
  },
  {
   "cell_type": "code",
   "execution_count": 22,
   "metadata": {},
   "outputs": [
    {
     "data": {
      "text/plain": [
       "array([0])"
      ]
     },
     "execution_count": 22,
     "metadata": {},
     "output_type": "execute_result"
    }
   ],
   "source": [
    "index"
   ]
  },
  {
   "cell_type": "code",
   "execution_count": 28,
   "metadata": {},
   "outputs": [
    {
     "name": "stdout",
     "output_type": "stream",
     "text": [
      "This is the format of your plot grid:\n",
      "[ (1,1) x1,y1 ]\n",
      "[ (2,1) x2,y2 ]\n",
      "\n"
     ]
    },
    {
     "data": {
      "text/plain": [
       "'file:///home/ubuntu/Notebooks/SETS/lstm-forecast-api/src/model/temp-plot.html'"
      ]
     },
     "execution_count": 28,
     "metadata": {},
     "output_type": "execute_result"
    }
   ],
   "source": [
    "import numpy as np\n",
    "import plotly.graph_objs as go\n",
    "import plotly\n",
    "\n",
    "a = np.random.normal(0,1,100)\n",
    "b = np.random.normal(-2,5,100)\n",
    "\n",
    "c = np.random.normal(0,1,100)\n",
    "d = np.random.normal(-2,5,100)\n",
    "\n",
    "fig = plotly.tools.make_subplots(rows=2,cols=1)\n",
    "\n",
    "trace_rm1 = go.Histogram(x = a, opacity = 0.75, name = 'malignant')\n",
    "trace_rm2 = go.Histogram(x = b, opacity = 0.75, name = 'benign')\n",
    "fig.append_trace(go.Histogram(x = a, opacity = 0.75, name = 'benign'),1,1)\n",
    "fig.append_trace(go.Histogram(x = b, opacity = 0.75, name = 'malignant'),1,1)\n",
    "fig.append_trace(go.Histogram(x = c, opacity = 0.75, name = 'benign'),2,1)\n",
    "fig.append_trace(go.Histogram(x = d, opacity = 0.75, name = 'malignant'),2,1)\n",
    "fig.layout.update(go.Layout(barmode = 'overlay',))\n",
    "\n",
    "plotly.offline.plot(fig)"
   ]
  },
  {
   "cell_type": "code",
   "execution_count": null,
   "metadata": {},
   "outputs": [],
   "source": []
  }
 ],
 "metadata": {
  "kernelspec": {
   "display_name": "Python 3",
   "language": "python",
   "name": "python3"
  },
  "language_info": {
   "codemirror_mode": {
    "name": "ipython",
    "version": 3
   },
   "file_extension": ".py",
   "mimetype": "text/x-python",
   "name": "python",
   "nbconvert_exporter": "python",
   "pygments_lexer": "ipython3",
   "version": "3.6.5"
  }
 },
 "nbformat": 4,
 "nbformat_minor": 2
}
