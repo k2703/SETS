{
 "cells": [
  {
   "cell_type": "code",
   "execution_count": 35,
   "metadata": {},
   "outputs": [
    {
     "name": "stdout",
     "output_type": "stream",
     "text": [
      "This is the format of your plot grid:\n",
      "[ (1,1) x1,y1 ]    [ (1,2) x2,y2 ]    [ (1,3) x3,y3 ]    [ (1,4) x4,y4 ]  \n",
      "[ (2,1) x5,y5 ]    [ (2,2) x6,y6 ]    [ (2,3) x7,y7 ]    [ (2,4) x8,y8 ]  \n",
      "[ (3,1) x9,y9 ]    [ (3,2) x10,y10 ]  [ (3,3) x11,y11 ]  [ (3,4) x12,y12 ]\n",
      "[ (4,1) x13,y13 ]  [ (4,2) x14,y14 ]  [ (4,3) x15,y15 ]  [ (4,4) x16,y16 ]\n",
      "[ (5,1) x17,y17 ]  [ (5,2) x18,y18 ]  [ (5,3) x19,y19 ]  [ (5,4) x20,y20 ]\n",
      "[ (6,1) x21,y21 ]  [ (6,2) x22,y22 ]  [ (6,3) x23,y23 ]  [ (6,4) x24,y24 ]\n",
      "\n"
     ]
    },
    {
     "data": {
      "text/plain": [
       "'file:///home/ubuntu/Notebooks/SETS/lstm-forecast-api/src/model/temp-plot.html'"
      ]
     },
     "execution_count": 35,
     "metadata": {},
     "output_type": "execute_result"
    }
   ],
   "source": [
    "import numpy as np\n",
    "import plotly.graph_objs as go\n",
    "import plotly\n",
    "\n",
    "\n",
    "appliances = ['B1E','B2E','BME','CDE','CWE','DNE','DWE','EBE','EQE','FQE','FRE','HPE','HTE','MHE','OFE','OUE','RSE','SPA','TVE','UNE','UTE','WHE','WOE']\n",
    "change_train_rmse = [-17.78,-4.68,-12.17,-16.28,-16.82,158.39,-16.07,-14.42,-13.82,-28.88,-6.34,-14.99,-17.17,-3.14,408.74,-15.45,-10.42,-19.09,-11.97,-9.13,43.36,31.72,-20.65]\n",
    "change_test_rmse = [-20.35,-4.98,-9.61,-22.75,-15.54,207.71,-16.14,76.92,-11.76,-29.20,-16.36,-16.36,-16.69,-8.30,654.90,-10.42,-10.32,-18.42,-11.27,-11.79,159.92,26.02,-20.35]\n",
    "\n",
    "\n",
    "layout = go.Layout(\n",
    "    xaxis=dict(\n",
    "        autorange=True,\n",
    "        showgrid=False,\n",
    "        zeroline=False,\n",
    "        showline=False,\n",
    "        ticks='',\n",
    "        showticklabels=False\n",
    "    ),\n",
    "    yaxis=dict(\n",
    "        autorange=True,\n",
    "        showgrid=False,\n",
    "        zeroline=False,\n",
    "        showline=False,\n",
    "        ticks='',\n",
    "        showticklabels=False\n",
    "    )\n",
    ")\n",
    "\n",
    "x = ['Train RMSE change', 'Test RMSE change']\n",
    "y = [20, -14]\n",
    "y2 = [16,12,27]\n",
    "\n",
    "\n",
    "fig = plotly.tools.make_subplots(rows=6,cols=4,subplot_titles=tuple(appliances))\n",
    "\n",
    "for i in range(len(appliances)):\n",
    "    \n",
    "    row = 1 + int(i/4)\n",
    "    column = 1+ (i%4)\n",
    "\n",
    "    ctrr = change_train_rmse[i] \n",
    "    cter = change_test_rmse[i] \n",
    "\n",
    "    if ctrr>0:\n",
    "        disp = \"+\" + str(ctrr) + \"%\"\n",
    "    else:\n",
    "        disp = str(ctrr) + \"%\"\n",
    "\n",
    "    trace_rm1 =  go.Bar(\n",
    "        y=[ctrr],\n",
    "        text=disp,\n",
    "        textposition = 'auto',\n",
    "        marker=dict(\n",
    "            color='rgb(158,202,225)',\n",
    "            line=dict(\n",
    "                color='rgb(8,48,107)',\n",
    "                width=1.5),\n",
    "            ),\n",
    "        opacity=0.6,\n",
    "        name = 'Relative TRAIN RMSE Change',\n",
    "    )\n",
    "\n",
    "    if cter>0:\n",
    "        disp = \"+\" + str(cter) + \"%\"\n",
    "    else:\n",
    "        disp = str(cter) + \"%\"\n",
    "\n",
    "    trace_rm2 =  go.Bar(\n",
    "        y=[cter],\n",
    "        text=disp,\n",
    "        textposition = 'auto',\n",
    "        marker=dict(\n",
    "            color='rgb(255,165,0)',\n",
    "            line=dict(\n",
    "                color='rgb(8,48,107)',\n",
    "                width=1.5),\n",
    "            ),\n",
    "        opacity=0.6,\n",
    "        name = 'Relative TEST RMSE Change',\n",
    "    )\n",
    "\n",
    "\n",
    "    fig.append_trace( trace_rm1,row,column)\n",
    "    fig.append_trace( trace_rm2,row,column)\n",
    "    \n",
    "    fig['layout']['yaxis' + str(i+1)].update(title='RMSE Change (%)')\n",
    "\n",
    "\n",
    "\n",
    "\n",
    "plotly.offline.plot(fig)"
   ]
  },
  {
   "cell_type": "code",
   "execution_count": null,
   "metadata": {},
   "outputs": [],
   "source": []
  }
 ],
 "metadata": {
  "kernelspec": {
   "display_name": "Python 3",
   "language": "python",
   "name": "python3"
  },
  "language_info": {
   "codemirror_mode": {
    "name": "ipython",
    "version": 3
   },
   "file_extension": ".py",
   "mimetype": "text/x-python",
   "name": "python",
   "nbconvert_exporter": "python",
   "pygments_lexer": "ipython3",
   "version": "3.6.5"
  }
 },
 "nbformat": 4,
 "nbformat_minor": 2
}
