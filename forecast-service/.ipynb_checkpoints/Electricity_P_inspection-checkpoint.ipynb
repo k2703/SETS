{
 "cells": [
  {
   "cell_type": "markdown",
   "metadata": {},
   "source": [
    "## Imports\n",
    "***"
   ]
  },
  {
   "cell_type": "code",
   "execution_count": null,
   "metadata": {
    "collapsed": true
   },
   "outputs": [],
   "source": [
    "import pandas as pd \n",
    "import os\n",
    "from plotly import __version__\n",
    "from plotly.offline import download_plotlyjs, init_notebook_mode, plot, iplot\n",
    "print(__version__)# requires version >= 1.9.0\n",
    "import plotly\n",
    "import plotly.graph_objs as go\n",
    "\n",
    "\n"
   ]
  },
  {
   "cell_type": "markdown",
   "metadata": {},
   "source": [
    "## Read data\n",
    "***"
   ]
  },
  {
   "cell_type": "code",
   "execution_count": null,
   "metadata": {
    "collapsed": true
   },
   "outputs": [],
   "source": [
    "\n",
    "relative_input_path = \"/data/Electricity_P_small.csv\"\n",
    "\n",
    "\n",
    "#filename = os.path.dirname(os.path.realpath(__file__))+relative_input_path\n",
    "filename = \"/Users/kevinstrau/Documents/Studium/Msc Mathematics Data Science/4. Semester Winter 18:19/COS30018 Intelligent Systems/Project/SETS/forecast-service/data/Electricity_P_small.csv\"\n",
    "#print(os.path.join(os.path.dirname(os.path.realpath(__file__))))\n",
    "#print(filename)\n",
    "electricity_data_small = pd.read_csv(filename,sep=\",\",usecols=['UNIX_TS','DWE','CDE','FGE'])\n",
    "\n",
    "\n",
    "\n",
    "my_data = genfromtxt(filename, delimiter=',')\n",
    "print(my_data.shape)\n",
    "\n",
    "electricity_data_small['UNIX_TS'] = pd.to_datetime(electricity_data_small['UNIX_TS'],unit='s')\n",
    "#print(electricity_data_small['UNIX_TS'].values)\n",
    "\n",
    "\n",
    "#print(type(electricity_data_small[['UNIX_TS']].values))\n",
    "\n",
    "\n",
    "\n"
   ]
  },
  {
   "cell_type": "markdown",
   "metadata": {},
   "source": [
    "## Plot\n",
    "***"
   ]
  },
  {
   "cell_type": "code",
   "execution_count": null,
   "metadata": {
    "collapsed": true
   },
   "outputs": [],
   "source": [
    "\n",
    "\n",
    "plotly.offline.init_notebook_mode(connected=True)\n",
    "\n",
    "\n",
    "\n",
    "N = 100\n",
    "date = electricity_data_small['UNIX_TS'].values\n",
    "kitchen_dishwasher = electricity_data_small['DWE']\n",
    "clothes_dryer = electricity_data_small['CDE']\n",
    "kitchen_fridge = electricity_data_small['FGE']\n",
    "\n",
    "\n",
    "# Create traces\n",
    "trace0 = go.Scatter(\n",
    "    x = date,\n",
    "    y = kitchen_dishwasher,\n",
    "    mode = 'lines',\n",
    "    name = 'lines'\n",
    ")\n",
    "trace1 = go.Scatter(\n",
    "    x = date,\n",
    "    y = clothes_dryer,\n",
    "    mode = 'lines',\n",
    "    name = 'lines'\n",
    ")\n",
    "trace2 = go.Scatter(\n",
    "    x = date,\n",
    "    y = kitchen_fridge,\n",
    "    mode = 'lines',\n",
    "    name = 'lines'\n",
    ")\n",
    "#data = [trace0, trace1, trace2]\n",
    "\n",
    "plotly.offline.iplot([trace0], filename='line-mode')\n",
    "plotly.offline.iplot([trace1], filename='line-mode')\n",
    "plotly.offline.iplot([trace2], filename='line-mode')"
   ]
  }
 ],
 "metadata": {
  "kernelspec": {
   "display_name": "Python 3",
   "language": "python",
   "name": "python3"
  },
  "language_info": {
   "codemirror_mode": {
    "name": "ipython",
    "version": 3
   },
   "file_extension": ".py",
   "mimetype": "text/x-python",
   "name": "python",
   "nbconvert_exporter": "python",
   "pygments_lexer": "ipython3",
   "version": "3.6.3"
  }
 },
 "nbformat": 4,
 "nbformat_minor": 2
}
